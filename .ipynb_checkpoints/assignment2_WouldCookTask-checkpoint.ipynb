{
 "cells": [
  {
   "cell_type": "code",
   "execution_count": 6,
   "id": "ad0d5a9b",
   "metadata": {},
   "outputs": [],
   "source": [
    "import csv\n",
    "import random\n",
    "import json\n",
    "from collections import defaultdict\n",
    "import matplotlib.pyplot as plt\n",
    "import seaborn as sns"
   ]
  },
  {
   "cell_type": "markdown",
   "id": "50ae0983",
   "metadata": {},
   "source": [
    "## Preprocess data"
   ]
  },
  {
   "cell_type": "code",
   "execution_count": 7,
   "id": "f907734b",
   "metadata": {},
   "outputs": [],
   "source": [
    "filename = '/mnt/BioAdHoc/Groups/vd-ay/dsfigueroa/PhD/CSE258_RecommenderSystems/Assignment_2/archive/RAW_recipes.csv'\n",
    "reader = csv.DictReader(open(filename))\n",
    "\n",
    "recipesData = list()\n",
    "for rows in reader:\n",
    "    recipe = (rows['id'], rows)\n",
    "    recipesData.append(recipe)"
   ]
  },
  {
   "cell_type": "code",
   "execution_count": 8,
   "id": "1a37bc50",
   "metadata": {},
   "outputs": [],
   "source": [
    "filename = '/mnt/BioAdHoc/Groups/vd-ay/dsfigueroa/PhD/CSE258_RecommenderSystems/Assignment_2/archive/RAW_interactions.csv'\n",
    "reader = csv.DictReader(open(filename))\n",
    "\n",
    "reviewsData = list()\n",
    "for rows in reader:\n",
    "    review = (rows['user_id'], rows['recipe_id'], rows)\n",
    "    reviewsData.append(review)"
   ]
  },
  {
   "cell_type": "code",
   "execution_count": 9,
   "id": "912251da",
   "metadata": {},
   "outputs": [],
   "source": [
    "users = set([r[0] for r in reviewsData])"
   ]
  },
  {
   "cell_type": "code",
   "execution_count": 10,
   "id": "4e4508fa",
   "metadata": {},
   "outputs": [
    {
     "name": "stdout",
     "output_type": "stream",
     "text": [
      "Number of recipes: 231637\n",
      "Number of reviews: 1132367\n",
      "Number of users: 226570\n"
     ]
    }
   ],
   "source": [
    "print('Number of recipes: ' + str(len(recipesData)))\n",
    "print('Number of reviews: ' + str(len(reviewsData)))\n",
    "print('Number of users: ' + str(len(users)))"
   ]
  },
  {
   "cell_type": "code",
   "execution_count": 21,
   "id": "35e76a77-624e-4f11-b568-a2e1242974e2",
   "metadata": {},
   "outputs": [
    {
     "data": {
      "text/plain": [
       "Text(0, 0.5, 'Reviews')"
      ]
     },
     "execution_count": 21,
     "metadata": {},
     "output_type": "execute_result"
    },
    {
     "data": {
      "image/png": "[encoded data removed]",
      "text/plain": [
       "<Figure size 640x480 with 1 Axes>"
      ]
     },
     "metadata": {},
     "output_type": "display_data"
    }
   ],
   "source": [
    "# Plot distribution of ratings\n",
    "\n",
    "ratings = [int(items[2]['rating']) for items in reviewsData]\n",
    "\n",
    "plt.hist(ratings, color = 'lightblue', edgecolor = 'black', bins = 5)\n",
    "plt.title('Distribution of recipe ratings')\n",
    "plt.xlabel('Rating')\n",
    "plt.ylabel('Reviews')"
   ]
  },
  {
   "cell_type": "markdown",
   "id": "6c82e4ca",
   "metadata": {},
   "source": [
    "## Split dataset"
   ]
  },
  {
   "cell_type": "code",
   "execution_count": 6,
   "id": "e4054f1f",
   "metadata": {},
   "outputs": [],
   "source": [
    "random.seed(0)\n",
    "random.shuffle(reviewsData)"
   ]
  },
  {
   "cell_type": "code",
   "execution_count": 7,
   "id": "78896a83",
   "metadata": {},
   "outputs": [],
   "source": [
    "# Test code with 5% of dataset\n",
    "#reviewsData = reviewsData[:round(len(reviewsData)*.05)]"
   ]
  },
  {
   "cell_type": "code",
   "execution_count": 8,
   "id": "5f7f9695",
   "metadata": {},
   "outputs": [],
   "source": [
    "# 60:20:20\n",
    "reviewsTrain = reviewsData[:round(len(reviewsData)*.6)]\n",
    "reviewsValid = reviewsData[round(len(reviewsData)*.6):round(len(reviewsData)*.8)]\n",
    "reviewsTest = reviewsData[round(len(reviewsData)*.8):]"
   ]
  },
  {
   "cell_type": "code",
   "execution_count": 9,
   "id": "7beaf155",
   "metadata": {},
   "outputs": [
    {
     "data": {
      "text/plain": [
       "226474"
      ]
     },
     "execution_count": 9,
     "metadata": {},
     "output_type": "execute_result"
    }
   ],
   "source": [
    "len(reviewsValid)"
   ]
  },
  {
   "cell_type": "markdown",
   "id": "b0d4d4f0",
   "metadata": {},
   "source": [
    "## Cook prediction task"
   ]
  },
  {
   "cell_type": "code",
   "execution_count": 15,
   "id": "6fb2b413",
   "metadata": {},
   "outputs": [],
   "source": [
    "usersPerRecipe = defaultdict(set) # Maps a recipe to the users who rated it\n",
    "RecipesPerUser = defaultdict(set) # Maps a user to the recipes they rated\n",
    "allRecipes = list()\n",
    "\n",
    "for user,recipe,_ in reviewsData:\n",
    "    \n",
    "    usersPerRecipe[recipe].add(user)\n",
    "    RecipesPerUser[user].add(recipe)\n",
    "    \n",
    "    allRecipes.append(recipe)\n",
    "\n",
    "allRecipes = set(allRecipes)\n",
    "\n",
    "for _,_,meta in reviewsValid:\n",
    "    meta['cooked'] = 1"
   ]
  },
  {
   "cell_type": "code",
   "execution_count": 12,
   "id": "3d0f10d7",
   "metadata": {},
   "outputs": [],
   "source": [
    "# Sample negative entry in validation set\n",
    "\n",
    "#negValidData = list(reviewsValid)\n",
    "\n",
    "#for user,recipe,meta in reviewsValid:\n",
    "#    negRecipe = random.sample(sorted(allRecipes - RecipesPerUser[user]), 1)[0]\n",
    "#    negEntry = (str(user), str(negRecipe), {'user_id': user, \n",
    "#                                  'recipe_id': negRecipe,\n",
    "#                                  'cooked': 0} )\n",
    "#    negValidData.append(negEntry)\n",
    "    \n",
    "#with open('negValidData.json', 'w') as f:\n",
    "#    json.dump(tuple(negValidData), f)"
   ]
  },
  {
   "cell_type": "code",
   "execution_count": 14,
   "id": "71ecb79f",
   "metadata": {},
   "outputs": [],
   "source": [
    "# Read json with negative entries from validation set\n",
    "\n",
    "f = open(\"negValidData.json\")\n",
    "\n",
    "negValidData = []\n",
    "\n",
    "for l in f:\n",
    "    negValidData.append(eval(l))\n",
    "    \n",
    "negValidData = negValidData[0]"
   ]
  },
  {
   "cell_type": "markdown",
   "id": "97b4258f",
   "metadata": {},
   "source": [
    "### Baseline 1 (based on recipe popularity)"
   ]
  },
  {
   "cell_type": "code",
   "execution_count": 16,
   "id": "eae2f0b7",
   "metadata": {},
   "outputs": [],
   "source": [
    "recipeCount = defaultdict(int)\n",
    "totalCooked = 0\n",
    "\n",
    "for user,recipe,_ in reviewsTrain:\n",
    "    recipeCount[recipe] += 1\n",
    "    totalCooked += 1\n",
    "\n",
    "mostPopular = [(recipeCount[x], x) for x in recipeCount]\n",
    "mostPopular.sort()\n",
    "mostPopular.reverse()\n",
    "\n",
    "returnPred = set()\n",
    "count = 0\n",
    "for ic, i in mostPopular:\n",
    "    count += ic\n",
    "    returnPred.add(i)\n",
    "    if count > totalCooked/2: break"
   ]
  },
  {
   "cell_type": "code",
   "execution_count": 17,
   "id": "b0860267",
   "metadata": {},
   "outputs": [],
   "source": [
    "# Evaluate Baseline 1 on validation data\n",
    "\n",
    "validPred = []\n",
    "\n",
    "for user,recipe,meta in negValidData:\n",
    "    \n",
    "    recipeCookedFlag = meta['cooked']\n",
    "    \n",
    "    if recipe in returnPred:\n",
    "        if recipeCookedFlag:\n",
    "            validPred.append(1)\n",
    "        else:\n",
    "            validPred.append(0)\n",
    "    else:\n",
    "        if not recipeCookedFlag:\n",
    "            validPred.append(1)\n",
    "        else:\n",
    "            validPred.append(0)"
   ]
  },
  {
   "cell_type": "code",
   "execution_count": 18,
   "id": "6dfe3b7b",
   "metadata": {},
   "outputs": [
    {
     "name": "stdout",
     "output_type": "stream",
     "text": [
      "Accuracy on validation set = 0.6970071619700274\n"
     ]
    }
   ],
   "source": [
    "accuracy = sum(validPred)/len(negValidData)\n",
    "\n",
    "print(\"Accuracy on validation set = \" + str(accuracy))"
   ]
  },
  {
   "cell_type": "markdown",
   "id": "c00bfdce",
   "metadata": {},
   "source": [
    "### Baseline 2 (based on recipe similarity)"
   ]
  },
  {
   "cell_type": "code",
   "execution_count": 19,
   "id": "be6c8ab3",
   "metadata": {},
   "outputs": [],
   "source": [
    "usersPerRecipe = defaultdict(set) # Maps a recipe to the users who rated it\n",
    "RecipesPerUser = defaultdict(set) # Maps a user to the recipes they rated\n",
    "recipeCount = defaultdict(int)\n",
    "totalCooked = 0\n",
    "\n",
    "for user,recipe,_ in reviewsTrain:\n",
    "#for user,recipe,_ in reviewsData:\n",
    "    \n",
    "    recipeCount[recipe] += 1\n",
    "    totalCooked += 1\n",
    "    \n",
    "    usersPerRecipe[recipe].add(user)\n",
    "    RecipesPerUser[user].add(recipe)"
   ]
  },
  {
   "cell_type": "code",
   "execution_count": 20,
   "id": "10b9c3d5",
   "metadata": {},
   "outputs": [],
   "source": [
    "def Jaccard(s1, s2):\n",
    "    \n",
    "    numer = len(s1.intersection(s2))\n",
    "    denom = len(s1.union(s2))\n",
    "\n",
    "    if denom == 0:\n",
    "        print(\"denom = 0\")\n",
    "    \n",
    "    return numer/denom"
   ]
  },
  {
   "cell_type": "code",
   "execution_count": 23,
   "id": "7dcd5a0e",
   "metadata": {},
   "outputs": [
    {
     "name": "stdout",
     "output_type": "stream",
     "text": [
      "t = 0.001\n",
      "0.6136775082349408\n"
     ]
    }
   ],
   "source": [
    "thresholds = [1/2**i for i in range(1, 10)]\n",
    "bestAccuracy = 0\n",
    "bestThres = 0\n",
    "\n",
    "#for t in thresholds:\n",
    "for t in [0.001]:\n",
    "    print('t = ' + str(t))\n",
    "    \n",
    "    validPred = []\n",
    "    \n",
    "    for user,recipe,meta in negValidData:\n",
    "        recipesCooked = RecipesPerUser[user]\n",
    "        \n",
    "        #if len(recipesCooked) == 0: continue\n",
    "        \n",
    "        similarities = []\n",
    "        for recipePrime in recipesCooked:\n",
    "            \n",
    "            sim = Jaccard(usersPerRecipe[recipe], usersPerRecipe[recipePrime])\n",
    "            similarities.append(sim)\n",
    "        \n",
    "        recipeCookedFlag = meta['cooked'] \n",
    "        if len(similarities) > 0 and max(similarities) > t:\n",
    "            if recipeCookedFlag:\n",
    "                validPred.append(1)\n",
    "            else:\n",
    "                validPred.append(0)\n",
    "        else:\n",
    "            if not recipeCookedFlag:\n",
    "                validPred.append(1)\n",
    "            else:\n",
    "                validPred.append(0)\n",
    "    \n",
    "    accuracy = sum(validPred)/len(negValidData)\n",
    "    print(accuracy)\n",
    "    \n",
    "    if bestAccuracy < accuracy:\n",
    "        bestAccuracy = accuracy\n",
    "        bestThres = t"
   ]
  },
  {
   "cell_type": "code",
   "execution_count": 34,
   "id": "a16e0a3a",
   "metadata": {},
   "outputs": [],
   "source": [
    "#print(\"\\nAccuracy = \" + str(bestAccuracy))\n",
    "#print(\"Threshold = \" + str(bestThres))"
   ]
  },
  {
   "cell_type": "markdown",
   "id": "f5079694",
   "metadata": {},
   "source": [
    "### Baseline 3 (based on recipe popularity and similariy)"
   ]
  },
  {
   "cell_type": "code",
   "execution_count": 31,
   "id": "88b45d58",
   "metadata": {},
   "outputs": [
    {
     "name": "stdout",
     "output_type": "stream",
     "text": [
      "Threshold 1 = 0.595\n",
      "Threshold 2 = 0.01\n",
      "Accuracy = 0.6246213693404099\n"
     ]
    }
   ],
   "source": [
    "bestAccuracy = 0\n",
    "bestThres1 = 0\n",
    "bestThres2 = 0\n",
    "\n",
    "#for x in range(100,120)\n",
    "#    for y in range(1,9):\n",
    "for x in [119]:\n",
    "    for y in [1]:\n",
    "        thre1=x*0.005\n",
    "        thre2=y*0.01\n",
    "        \n",
    "        thresholdPopu = totalCooked*thre1\n",
    "        thresholdSim = thre2\n",
    "\n",
    "        print('Threshold 1 = ' + str(thre1))\n",
    "        print('Threshold 2 = ' + str(thresholdSim))\n",
    "\n",
    "        # Train\n",
    "        mostPopular = [(recipeCount[x], x) for x in recipeCount]\n",
    "        mostPopular.sort()\n",
    "        mostPopular.reverse()\n",
    "\n",
    "        returnPred = set()\n",
    "        count = 0\n",
    "        for ic, i in mostPopular:\n",
    "            count += ic\n",
    "            returnPred.add(i)\n",
    "            if count > thresholdPopu: break\n",
    "\n",
    "        # Evaluate\n",
    "        validPred = []\n",
    "\n",
    "        for user,recipe,meta in negValidData:\n",
    "            recipesCooked = RecipesPerUser[user]\n",
    "\n",
    "            similarities = []\n",
    "            for recipePrime in recipesCooked:\n",
    "                sim = Jaccard(usersPerRecipe[recipe], usersPerRecipe[recipePrime])\n",
    "                similarities.append(sim)\n",
    "\n",
    "            recipeCookedFlag = meta['cooked'] \n",
    "            if len(similarities) > 0 and max(similarities) > thresholdSim and recipe in returnPred:\n",
    "                if recipeCookedFlag:\n",
    "                    validPred.append(1)\n",
    "                else:\n",
    "                    validPred.append(0)\n",
    "            else:\n",
    "                if not recipeCookedFlag:\n",
    "                    validPred.append(1)\n",
    "                else:\n",
    "                    validPred.append(0)\n",
    "\n",
    "        accuracy = sum(validPred)/len(negValidData)\n",
    "        print(\"Accuracy = \" + str(accuracy))\n",
    "        \n",
    "        if bestAccuracy < accuracy:\n",
    "            bestAccuracy = accuracy\n",
    "            bestThres1 = thresholdPopu\n",
    "            bestThres2 = thresholdSim"
   ]
  },
  {
   "cell_type": "code",
   "execution_count": 33,
   "id": "2ac06601",
   "metadata": {},
   "outputs": [],
   "source": [
    "#print(\"\\nAccuracy = \" + str(bestAccuracy))\n",
    "#print(\"Threshold 1 = \" + str(bestThres1))\n",
    "#print(\"Threshold 2 = \" + str(bestThres2))"
   ]
  },
  {
   "cell_type": "code",
   "execution_count": null,
   "id": "e47318fe",
   "metadata": {},
   "outputs": [],
   "source": []
  }
 ],
 "metadata": {
  "kernelspec": {
   "display_name": "Python 3 (ipykernel)",
   "language": "python",
   "name": "python3"
  },
  "language_info": {
   "codemirror_mode": {
    "name": "ipython",
    "version": 3
   },
   "file_extension": ".py",
   "mimetype": "text/x-python",
   "name": "python",
   "nbconvert_exporter": "python",
   "pygments_lexer": "ipython3",
   "version": "3.10.13"
  }
 },
 "nbformat": 4,
 "nbformat_minor": 5
}
